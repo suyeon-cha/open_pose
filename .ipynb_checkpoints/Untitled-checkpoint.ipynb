{
 "cells": [
  {
   "cell_type": "code",
   "execution_count": 1,
   "id": "826209a2",
   "metadata": {},
   "outputs": [],
   "source": [
    "import cv2 as cv ## pip install opencv-python\n",
    "import matplotlib.pyplot as plt"
   ]
  },
  {
   "cell_type": "code",
   "execution_count": 2,
   "id": "d7f89742",
   "metadata": {},
   "outputs": [],
   "source": [
    "net = cv.dnn.readNetFromTensorflow(\"graph_opt.pb\") ## weights"
   ]
  },
  {
   "cell_type": "code",
   "execution_count": null,
   "id": "57e9175c",
   "metadata": {},
   "outputs": [],
   "source": [
    "inWidth = 368\n",
    "inHeight = 368\n",
    "thr = "
   ]
  }
 ],
 "metadata": {
  "kernelspec": {
   "display_name": "Python 3 (ipykernel)",
   "language": "python",
   "name": "python3"
  },
  "language_info": {
   "codemirror_mode": {
    "name": "ipython",
    "version": 3
   },
   "file_extension": ".py",
   "mimetype": "text/x-python",
   "name": "python",
   "nbconvert_exporter": "python",
   "pygments_lexer": "ipython3",
   "version": "3.7.11"
  }
 },
 "nbformat": 4,
 "nbformat_minor": 5
}
